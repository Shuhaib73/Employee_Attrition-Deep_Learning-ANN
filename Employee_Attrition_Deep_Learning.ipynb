{
 "cells": [
  {
   "cell_type": "code",
   "execution_count": 1,
   "metadata": {},
   "outputs": [
    {
     "name": "stdout",
     "output_type": "stream",
     "text": [
      "WARNING:tensorflow:From c:\\Users\\user\\Desktop\\Python\\Main_Projects\\base_env\\Lib\\site-packages\\keras\\src\\losses.py:2976: The name tf.losses.sparse_softmax_cross_entropy is deprecated. Please use tf.compat.v1.losses.sparse_softmax_cross_entropy instead.\n",
      "\n"
     ]
    }
   ],
   "source": [
    "# Import necessary libraries \n",
    "import pandas as pd \n",
    "import numpy as np \n",
    "import matplotlib.pyplot as plt \n",
    "import seaborn as sns\n",
    "import warnings\n",
    "\n",
    "# Import scikit-learn metrics module for model evaluation\n",
    "from sklearn import metrics\n",
    "\n",
    "# Import TensorFlow and Keras for building and training neural networks\n",
    "from tensorflow.keras.models import Sequential\n",
    "from tensorflow.keras.layers import Dense \n",
    "from tensorflow.keras.layers import Dropout, BatchNormalization\n",
    "from keras.callbacks import EarlyStopping\n",
    "\n",
    "# Set display options for pandas and suppress warnings\n",
    "pd.set_option('display.max_columns', 100)\n",
    "warnings.filterwarnings('ignore')"
   ]
  },
  {
   "cell_type": "markdown",
   "metadata": {},
   "source": [
    "### *About Dataset*\n",
    "\n",
    "##### * *This dataset encapsulates information about employee status, specifically highlighting terminations. For each of the 10 years covered, the dataset provides details on both active employees and those who have undergone termination.* \n",
    "##### * *The objective is to assess whether an employee is currently active or has been terminated based on the available data.*"
   ]
  },
  {
   "cell_type": "code",
   "execution_count": 2,
   "metadata": {},
   "outputs": [],
   "source": [
    "# Read the dataset from a CSV file into a Pandas DataFrame\n",
    "\n",
    "data = pd.read_csv('MFG10YearTerminationData.csv')"
   ]
  },
  {
   "cell_type": "code",
   "execution_count": 40,
   "metadata": {},
   "outputs": [],
   "source": [
    "# Create a copy of the original DataFrame for further processing\n",
    "\n",
    "df = data.copy()"
   ]
  },
  {
   "cell_type": "code",
   "execution_count": 41,
   "metadata": {},
   "outputs": [
    {
     "name": "stdout",
     "output_type": "stream",
     "text": [
      "<class 'pandas.core.frame.DataFrame'>\n",
      "RangeIndex: 49653 entries, 0 to 49652\n",
      "Data columns (total 18 columns):\n",
      " #   Column               Non-Null Count  Dtype \n",
      "---  ------               --------------  ----- \n",
      " 0   EmployeeID           49653 non-null  int64 \n",
      " 1   recorddate_key       49653 non-null  object\n",
      " 2   birthdate_key        49653 non-null  object\n",
      " 3   orighiredate_key     49653 non-null  object\n",
      " 4   terminationdate_key  49653 non-null  object\n",
      " 5   age                  49653 non-null  int64 \n",
      " 6   length_of_service    49653 non-null  int64 \n",
      " 7   city_name            49653 non-null  object\n",
      " 8   department_name      49653 non-null  object\n",
      " 9   job_title            49653 non-null  object\n",
      " 10  store_name           49653 non-null  int64 \n",
      " 11  gender_short         49653 non-null  object\n",
      " 12  gender_full          49653 non-null  object\n",
      " 13  termreason_desc      49653 non-null  object\n",
      " 14  termtype_desc        49653 non-null  object\n",
      " 15  STATUS_YEAR          49653 non-null  int64 \n",
      " 16  STATUS               49653 non-null  object\n",
      " 17  BUSINESS_UNIT        49653 non-null  object\n",
      "dtypes: int64(5), object(13)\n",
      "memory usage: 6.8+ MB\n"
     ]
    }
   ],
   "source": [
    "# Display information about the DataFrame, including data types and non-null counts\n",
    "\n",
    "df.info()"
   ]
  },
  {
   "cell_type": "code",
   "execution_count": 42,
   "metadata": {},
   "outputs": [
    {
     "data": {
      "text/html": [
       "<div>\n",
       "<style scoped>\n",
       "    .dataframe tbody tr th:only-of-type {\n",
       "        vertical-align: middle;\n",
       "    }\n",
       "\n",
       "    .dataframe tbody tr th {\n",
       "        vertical-align: top;\n",
       "    }\n",
       "\n",
       "    .dataframe thead th {\n",
       "        text-align: right;\n",
       "    }\n",
       "</style>\n",
       "<table border=\"1\" class=\"dataframe\">\n",
       "  <thead>\n",
       "    <tr style=\"text-align: right;\">\n",
       "      <th></th>\n",
       "      <th>EmployeeID</th>\n",
       "      <th>recorddate_key</th>\n",
       "      <th>birthdate_key</th>\n",
       "      <th>orighiredate_key</th>\n",
       "      <th>terminationdate_key</th>\n",
       "      <th>age</th>\n",
       "      <th>length_of_service</th>\n",
       "      <th>city_name</th>\n",
       "      <th>department_name</th>\n",
       "      <th>job_title</th>\n",
       "      <th>store_name</th>\n",
       "      <th>gender_short</th>\n",
       "      <th>gender_full</th>\n",
       "      <th>termreason_desc</th>\n",
       "      <th>termtype_desc</th>\n",
       "      <th>STATUS_YEAR</th>\n",
       "      <th>STATUS</th>\n",
       "      <th>BUSINESS_UNIT</th>\n",
       "    </tr>\n",
       "  </thead>\n",
       "  <tbody>\n",
       "    <tr>\n",
       "      <th>0</th>\n",
       "      <td>1318</td>\n",
       "      <td>12/31/2006 0:00</td>\n",
       "      <td>1/3/1954</td>\n",
       "      <td>8/28/1989</td>\n",
       "      <td>1/1/1900</td>\n",
       "      <td>52</td>\n",
       "      <td>17</td>\n",
       "      <td>Vancouver</td>\n",
       "      <td>Executive</td>\n",
       "      <td>CEO</td>\n",
       "      <td>35</td>\n",
       "      <td>M</td>\n",
       "      <td>Male</td>\n",
       "      <td>Not Applicable</td>\n",
       "      <td>Not Applicable</td>\n",
       "      <td>2006</td>\n",
       "      <td>ACTIVE</td>\n",
       "      <td>HEADOFFICE</td>\n",
       "    </tr>\n",
       "    <tr>\n",
       "      <th>1</th>\n",
       "      <td>1318</td>\n",
       "      <td>12/31/2007 0:00</td>\n",
       "      <td>1/3/1954</td>\n",
       "      <td>8/28/1989</td>\n",
       "      <td>1/1/1900</td>\n",
       "      <td>53</td>\n",
       "      <td>18</td>\n",
       "      <td>Vancouver</td>\n",
       "      <td>Executive</td>\n",
       "      <td>CEO</td>\n",
       "      <td>35</td>\n",
       "      <td>M</td>\n",
       "      <td>Male</td>\n",
       "      <td>Not Applicable</td>\n",
       "      <td>Not Applicable</td>\n",
       "      <td>2007</td>\n",
       "      <td>ACTIVE</td>\n",
       "      <td>HEADOFFICE</td>\n",
       "    </tr>\n",
       "    <tr>\n",
       "      <th>2</th>\n",
       "      <td>1318</td>\n",
       "      <td>12/31/2008 0:00</td>\n",
       "      <td>1/3/1954</td>\n",
       "      <td>8/28/1989</td>\n",
       "      <td>1/1/1900</td>\n",
       "      <td>54</td>\n",
       "      <td>19</td>\n",
       "      <td>Vancouver</td>\n",
       "      <td>Executive</td>\n",
       "      <td>CEO</td>\n",
       "      <td>35</td>\n",
       "      <td>M</td>\n",
       "      <td>Male</td>\n",
       "      <td>Not Applicable</td>\n",
       "      <td>Not Applicable</td>\n",
       "      <td>2008</td>\n",
       "      <td>ACTIVE</td>\n",
       "      <td>HEADOFFICE</td>\n",
       "    </tr>\n",
       "    <tr>\n",
       "      <th>3</th>\n",
       "      <td>1318</td>\n",
       "      <td>12/31/2009 0:00</td>\n",
       "      <td>1/3/1954</td>\n",
       "      <td>8/28/1989</td>\n",
       "      <td>1/1/1900</td>\n",
       "      <td>55</td>\n",
       "      <td>20</td>\n",
       "      <td>Vancouver</td>\n",
       "      <td>Executive</td>\n",
       "      <td>CEO</td>\n",
       "      <td>35</td>\n",
       "      <td>M</td>\n",
       "      <td>Male</td>\n",
       "      <td>Not Applicable</td>\n",
       "      <td>Not Applicable</td>\n",
       "      <td>2009</td>\n",
       "      <td>ACTIVE</td>\n",
       "      <td>HEADOFFICE</td>\n",
       "    </tr>\n",
       "    <tr>\n",
       "      <th>4</th>\n",
       "      <td>1318</td>\n",
       "      <td>12/31/2010 0:00</td>\n",
       "      <td>1/3/1954</td>\n",
       "      <td>8/28/1989</td>\n",
       "      <td>1/1/1900</td>\n",
       "      <td>56</td>\n",
       "      <td>21</td>\n",
       "      <td>Vancouver</td>\n",
       "      <td>Executive</td>\n",
       "      <td>CEO</td>\n",
       "      <td>35</td>\n",
       "      <td>M</td>\n",
       "      <td>Male</td>\n",
       "      <td>Not Applicable</td>\n",
       "      <td>Not Applicable</td>\n",
       "      <td>2010</td>\n",
       "      <td>ACTIVE</td>\n",
       "      <td>HEADOFFICE</td>\n",
       "    </tr>\n",
       "  </tbody>\n",
       "</table>\n",
       "</div>"
      ],
      "text/plain": [
       "   EmployeeID   recorddate_key birthdate_key orighiredate_key  \\\n",
       "0        1318  12/31/2006 0:00      1/3/1954        8/28/1989   \n",
       "1        1318  12/31/2007 0:00      1/3/1954        8/28/1989   \n",
       "2        1318  12/31/2008 0:00      1/3/1954        8/28/1989   \n",
       "3        1318  12/31/2009 0:00      1/3/1954        8/28/1989   \n",
       "4        1318  12/31/2010 0:00      1/3/1954        8/28/1989   \n",
       "\n",
       "  terminationdate_key  age  length_of_service  city_name department_name  \\\n",
       "0            1/1/1900   52                 17  Vancouver       Executive   \n",
       "1            1/1/1900   53                 18  Vancouver       Executive   \n",
       "2            1/1/1900   54                 19  Vancouver       Executive   \n",
       "3            1/1/1900   55                 20  Vancouver       Executive   \n",
       "4            1/1/1900   56                 21  Vancouver       Executive   \n",
       "\n",
       "  job_title  store_name gender_short gender_full termreason_desc  \\\n",
       "0       CEO          35            M        Male  Not Applicable   \n",
       "1       CEO          35            M        Male  Not Applicable   \n",
       "2       CEO          35            M        Male  Not Applicable   \n",
       "3       CEO          35            M        Male  Not Applicable   \n",
       "4       CEO          35            M        Male  Not Applicable   \n",
       "\n",
       "    termtype_desc  STATUS_YEAR  STATUS BUSINESS_UNIT  \n",
       "0  Not Applicable         2006  ACTIVE    HEADOFFICE  \n",
       "1  Not Applicable         2007  ACTIVE    HEADOFFICE  \n",
       "2  Not Applicable         2008  ACTIVE    HEADOFFICE  \n",
       "3  Not Applicable         2009  ACTIVE    HEADOFFICE  \n",
       "4  Not Applicable         2010  ACTIVE    HEADOFFICE  "
      ]
     },
     "execution_count": 42,
     "metadata": {},
     "output_type": "execute_result"
    }
   ],
   "source": [
    "df.head()"
   ]
  },
  {
   "cell_type": "markdown",
   "metadata": {},
   "source": [
    "### **Insights**\n",
    "\n",
    "##### - *The dataset doesn't contain any null values, ensuring data completeness*\n",
    "##### - *The dataset comprises a mix of integer and string datatype features*\n",
    "##### - *Some columns are redundant and can be safely removed without affecting the further analysis*\n",
    "##### - *Certain columns, like 'termreason_desc and termtype_desc directly reveal information our deep learning Model is attempting to predict, To prevent potential data leakage and maintain model integrity, it is recommended to exclude these columns from the feature set* "
   ]
  },
  {
   "cell_type": "code",
   "execution_count": 43,
   "metadata": {},
   "outputs": [],
   "source": [
    "# Dropping unnecessary columns from the DataFrame to prepare the data for modeling.\n",
    "\n",
    "df.drop(columns=['EmployeeID', 'gender_short', 'birthdate_key', 'terminationdate_key', 'length_of_service', 'termreason_desc', 'termtype_desc'], inplace=True)"
   ]
  },
  {
   "cell_type": "code",
   "execution_count": 7,
   "metadata": {},
   "outputs": [
    {
     "data": {
      "text/html": [
       "<div>\n",
       "<style scoped>\n",
       "    .dataframe tbody tr th:only-of-type {\n",
       "        vertical-align: middle;\n",
       "    }\n",
       "\n",
       "    .dataframe tbody tr th {\n",
       "        vertical-align: top;\n",
       "    }\n",
       "\n",
       "    .dataframe thead th {\n",
       "        text-align: right;\n",
       "    }\n",
       "</style>\n",
       "<table border=\"1\" class=\"dataframe\">\n",
       "  <thead>\n",
       "    <tr style=\"text-align: right;\">\n",
       "      <th></th>\n",
       "      <th>recorddate_key</th>\n",
       "      <th>orighiredate_key</th>\n",
       "      <th>age</th>\n",
       "      <th>city_name</th>\n",
       "      <th>department_name</th>\n",
       "      <th>job_title</th>\n",
       "      <th>store_name</th>\n",
       "      <th>gender_full</th>\n",
       "      <th>STATUS_YEAR</th>\n",
       "      <th>STATUS</th>\n",
       "      <th>BUSINESS_UNIT</th>\n",
       "    </tr>\n",
       "  </thead>\n",
       "  <tbody>\n",
       "    <tr>\n",
       "      <th>0</th>\n",
       "      <td>12/31/2006 0:00</td>\n",
       "      <td>8/28/1989</td>\n",
       "      <td>52</td>\n",
       "      <td>Vancouver</td>\n",
       "      <td>Executive</td>\n",
       "      <td>CEO</td>\n",
       "      <td>35</td>\n",
       "      <td>Male</td>\n",
       "      <td>2006</td>\n",
       "      <td>ACTIVE</td>\n",
       "      <td>HEADOFFICE</td>\n",
       "    </tr>\n",
       "    <tr>\n",
       "      <th>1</th>\n",
       "      <td>12/31/2007 0:00</td>\n",
       "      <td>8/28/1989</td>\n",
       "      <td>53</td>\n",
       "      <td>Vancouver</td>\n",
       "      <td>Executive</td>\n",
       "      <td>CEO</td>\n",
       "      <td>35</td>\n",
       "      <td>Male</td>\n",
       "      <td>2007</td>\n",
       "      <td>ACTIVE</td>\n",
       "      <td>HEADOFFICE</td>\n",
       "    </tr>\n",
       "    <tr>\n",
       "      <th>2</th>\n",
       "      <td>12/31/2008 0:00</td>\n",
       "      <td>8/28/1989</td>\n",
       "      <td>54</td>\n",
       "      <td>Vancouver</td>\n",
       "      <td>Executive</td>\n",
       "      <td>CEO</td>\n",
       "      <td>35</td>\n",
       "      <td>Male</td>\n",
       "      <td>2008</td>\n",
       "      <td>ACTIVE</td>\n",
       "      <td>HEADOFFICE</td>\n",
       "    </tr>\n",
       "    <tr>\n",
       "      <th>3</th>\n",
       "      <td>12/31/2009 0:00</td>\n",
       "      <td>8/28/1989</td>\n",
       "      <td>55</td>\n",
       "      <td>Vancouver</td>\n",
       "      <td>Executive</td>\n",
       "      <td>CEO</td>\n",
       "      <td>35</td>\n",
       "      <td>Male</td>\n",
       "      <td>2009</td>\n",
       "      <td>ACTIVE</td>\n",
       "      <td>HEADOFFICE</td>\n",
       "    </tr>\n",
       "    <tr>\n",
       "      <th>4</th>\n",
       "      <td>12/31/2010 0:00</td>\n",
       "      <td>8/28/1989</td>\n",
       "      <td>56</td>\n",
       "      <td>Vancouver</td>\n",
       "      <td>Executive</td>\n",
       "      <td>CEO</td>\n",
       "      <td>35</td>\n",
       "      <td>Male</td>\n",
       "      <td>2010</td>\n",
       "      <td>ACTIVE</td>\n",
       "      <td>HEADOFFICE</td>\n",
       "    </tr>\n",
       "  </tbody>\n",
       "</table>\n",
       "</div>"
      ],
      "text/plain": [
       "    recorddate_key orighiredate_key  age  city_name department_name job_title  \\\n",
       "0  12/31/2006 0:00        8/28/1989   52  Vancouver       Executive       CEO   \n",
       "1  12/31/2007 0:00        8/28/1989   53  Vancouver       Executive       CEO   \n",
       "2  12/31/2008 0:00        8/28/1989   54  Vancouver       Executive       CEO   \n",
       "3  12/31/2009 0:00        8/28/1989   55  Vancouver       Executive       CEO   \n",
       "4  12/31/2010 0:00        8/28/1989   56  Vancouver       Executive       CEO   \n",
       "\n",
       "   store_name gender_full  STATUS_YEAR  STATUS BUSINESS_UNIT  \n",
       "0          35        Male         2006  ACTIVE    HEADOFFICE  \n",
       "1          35        Male         2007  ACTIVE    HEADOFFICE  \n",
       "2          35        Male         2008  ACTIVE    HEADOFFICE  \n",
       "3          35        Male         2009  ACTIVE    HEADOFFICE  \n",
       "4          35        Male         2010  ACTIVE    HEADOFFICE  "
      ]
     },
     "execution_count": 7,
     "metadata": {},
     "output_type": "execute_result"
    }
   ],
   "source": [
    "df.head()"
   ]
  },
  {
   "cell_type": "code",
   "execution_count": null,
   "metadata": {},
   "outputs": [],
   "source": [
    "# Displaying the value counts for each column in the DataFrame to understand the distribution of categorical data.\n",
    "\n",
    "for col in df.columns:\n",
    "    counts = df[col].value_counts()\n",
    "    print(f'{counts}\\n')\n",
    "    print('---------------------------')"
   ]
  },
  {
   "cell_type": "code",
   "execution_count": 11,
   "metadata": {},
   "outputs": [
    {
     "data": {
      "text/html": [
       "<div>\n",
       "<style scoped>\n",
       "    .dataframe tbody tr th:only-of-type {\n",
       "        vertical-align: middle;\n",
       "    }\n",
       "\n",
       "    .dataframe tbody tr th {\n",
       "        vertical-align: top;\n",
       "    }\n",
       "\n",
       "    .dataframe thead th {\n",
       "        text-align: right;\n",
       "    }\n",
       "</style>\n",
       "<table border=\"1\" class=\"dataframe\">\n",
       "  <thead>\n",
       "    <tr style=\"text-align: right;\">\n",
       "      <th></th>\n",
       "      <th>recorddate_key</th>\n",
       "      <th>orighiredate_key</th>\n",
       "      <th>age</th>\n",
       "      <th>city_name</th>\n",
       "      <th>department_name</th>\n",
       "      <th>job_title</th>\n",
       "      <th>store_name</th>\n",
       "      <th>gender_full</th>\n",
       "      <th>STATUS_YEAR</th>\n",
       "      <th>STATUS</th>\n",
       "      <th>BUSINESS_UNIT</th>\n",
       "    </tr>\n",
       "  </thead>\n",
       "  <tbody>\n",
       "    <tr>\n",
       "      <th>0</th>\n",
       "      <td>2006-12-31</td>\n",
       "      <td>1989-08-28</td>\n",
       "      <td>52</td>\n",
       "      <td>Vancouver</td>\n",
       "      <td>Executive</td>\n",
       "      <td>CEO</td>\n",
       "      <td>35</td>\n",
       "      <td>Male</td>\n",
       "      <td>2006</td>\n",
       "      <td>ACTIVE</td>\n",
       "      <td>HEADOFFICE</td>\n",
       "    </tr>\n",
       "    <tr>\n",
       "      <th>1</th>\n",
       "      <td>2007-12-31</td>\n",
       "      <td>1989-08-28</td>\n",
       "      <td>53</td>\n",
       "      <td>Vancouver</td>\n",
       "      <td>Executive</td>\n",
       "      <td>CEO</td>\n",
       "      <td>35</td>\n",
       "      <td>Male</td>\n",
       "      <td>2007</td>\n",
       "      <td>ACTIVE</td>\n",
       "      <td>HEADOFFICE</td>\n",
       "    </tr>\n",
       "    <tr>\n",
       "      <th>2</th>\n",
       "      <td>2008-12-31</td>\n",
       "      <td>1989-08-28</td>\n",
       "      <td>54</td>\n",
       "      <td>Vancouver</td>\n",
       "      <td>Executive</td>\n",
       "      <td>CEO</td>\n",
       "      <td>35</td>\n",
       "      <td>Male</td>\n",
       "      <td>2008</td>\n",
       "      <td>ACTIVE</td>\n",
       "      <td>HEADOFFICE</td>\n",
       "    </tr>\n",
       "    <tr>\n",
       "      <th>3</th>\n",
       "      <td>2009-12-31</td>\n",
       "      <td>1989-08-28</td>\n",
       "      <td>55</td>\n",
       "      <td>Vancouver</td>\n",
       "      <td>Executive</td>\n",
       "      <td>CEO</td>\n",
       "      <td>35</td>\n",
       "      <td>Male</td>\n",
       "      <td>2009</td>\n",
       "      <td>ACTIVE</td>\n",
       "      <td>HEADOFFICE</td>\n",
       "    </tr>\n",
       "    <tr>\n",
       "      <th>4</th>\n",
       "      <td>2010-12-31</td>\n",
       "      <td>1989-08-28</td>\n",
       "      <td>56</td>\n",
       "      <td>Vancouver</td>\n",
       "      <td>Executive</td>\n",
       "      <td>CEO</td>\n",
       "      <td>35</td>\n",
       "      <td>Male</td>\n",
       "      <td>2010</td>\n",
       "      <td>ACTIVE</td>\n",
       "      <td>HEADOFFICE</td>\n",
       "    </tr>\n",
       "  </tbody>\n",
       "</table>\n",
       "</div>"
      ],
      "text/plain": [
       "  recorddate_key orighiredate_key  age  city_name department_name job_title  \\\n",
       "0     2006-12-31       1989-08-28   52  Vancouver       Executive       CEO   \n",
       "1     2007-12-31       1989-08-28   53  Vancouver       Executive       CEO   \n",
       "2     2008-12-31       1989-08-28   54  Vancouver       Executive       CEO   \n",
       "3     2009-12-31       1989-08-28   55  Vancouver       Executive       CEO   \n",
       "4     2010-12-31       1989-08-28   56  Vancouver       Executive       CEO   \n",
       "\n",
       "   store_name gender_full  STATUS_YEAR  STATUS BUSINESS_UNIT  \n",
       "0          35        Male         2006  ACTIVE    HEADOFFICE  \n",
       "1          35        Male         2007  ACTIVE    HEADOFFICE  \n",
       "2          35        Male         2008  ACTIVE    HEADOFFICE  \n",
       "3          35        Male         2009  ACTIVE    HEADOFFICE  \n",
       "4          35        Male         2010  ACTIVE    HEADOFFICE  "
      ]
     },
     "execution_count": 11,
     "metadata": {},
     "output_type": "execute_result"
    }
   ],
   "source": [
    "df.head()"
   ]
  },
  {
   "cell_type": "markdown",
   "metadata": {},
   "source": [
    "### **EDA**"
   ]
  },
  {
   "cell_type": "code",
   "execution_count": 12,
   "metadata": {},
   "outputs": [
    {
     "data": {
      "text/plain": [
       "STATUS\n",
       "ACTIVE        48168\n",
       "TERMINATED     1485\n",
       "Name: count, dtype: int64"
      ]
     },
     "execution_count": 12,
     "metadata": {},
     "output_type": "execute_result"
    }
   ],
   "source": [
    "# Displaying the count of unique values in the 'STATUS' column to understand the distribution of employee status.\n",
    "\n",
    "df['STATUS'].value_counts()"
   ]
  },
  {
   "cell_type": "code",
   "execution_count": 6,
   "metadata": {},
   "outputs": [
    {
     "data": {
      "image/png": "[encoded data removed]",
      "text/plain": [
       "<Figure size 400x400 with 1 Axes>"
      ]
     },
     "metadata": {},
     "output_type": "display_data"
    }
   ],
   "source": [
    "# Visualizing Employee Attrition Rate using a Pie Chart\n",
    "plt.figure(figsize=(4,4))\n",
    "\n",
    "plt.pie(df['STATUS'].value_counts(), colors=['#caf0f8', '#ffb3c6'], labels=['Active', 'Terminated'], autopct='%1.1f%%', explode=(0.1, 0.1))\n",
    "plt.title('Employee Attrition Distribution', fontdict={'fontsize' : 10, 'weight' : 'bold', 'color' : '#6c757d'})\n",
    "\n",
    "plt.show()"
   ]
  },
  {
   "cell_type": "code",
   "execution_count": 7,
   "metadata": {},
   "outputs": [],
   "source": [
    "terminated_df = df[df['STATUS'] == 'TERMINATED']"
   ]
  },
  {
   "cell_type": "code",
   "execution_count": 8,
   "metadata": {},
   "outputs": [
    {
     "data": {
      "image/png": "[encoded data removed]",
      "text/plain": [
       "<Figure size 800x300 with 1 Axes>"
      ]
     },
     "metadata": {},
     "output_type": "display_data"
    }
   ],
   "source": [
    "# Creating a histogram to visualize the distribution of terminated employees Based on Age.\n",
    "plt.figure(figsize=(8,3))\n",
    "\n",
    "sns.histplot(x='age', data=terminated_df, bins=50, color='#023e8a', kde=True)\n",
    "plt.title('Attrition Count Based on Age', fontdict={'fontsize' : 9, 'weight' : 'bold'})\n",
    "plt.xlabel('Age', fontdict={'fontsize' : 8, 'weight' : 'bold'})\n",
    "plt.ylabel('Frequency', fontdict={'fontsize' : 8, 'weight' : 'bold'})\n",
    "sns.despine()\n",
    "plt.show()"
   ]
  },
  {
   "cell_type": "code",
   "execution_count": 9,
   "metadata": {},
   "outputs": [
    {
     "data": {
      "text/plain": [
       "gender_full\n",
       "Female    915\n",
       "Male      570\n",
       "Name: count, dtype: int64"
      ]
     },
     "execution_count": 9,
     "metadata": {},
     "output_type": "execute_result"
    }
   ],
   "source": [
    "terminated_df['gender_full'].value_counts()"
   ]
  },
  {
   "cell_type": "code",
   "execution_count": 112,
   "metadata": {},
   "outputs": [
    {
     "data": {
      "image/png": "[encoded data removed]",
      "text/plain": [
       "<Figure size 500x400 with 1 Axes>"
      ]
     },
     "metadata": {},
     "output_type": "display_data"
    }
   ],
   "source": [
    "# Creating a Count Plot to visualize the distribution of terminated employees Based on Gender.\n",
    "plt.figure(figsize=(5,4))\n",
    "\n",
    "sns.countplot(x='gender_full', data=terminated_df, palette=['#48cae4', '#ffb3c6'])\n",
    "plt.title('Attrition Count Based on Gender', fontdict={'fontsize' : 9, 'weight' : 'bold'})\n",
    "plt.xlabel('Gender', fontdict={'fontsize' : 8, 'weight' : 'bold'})\n",
    "plt.ylabel('Frequency', fontdict={'fontsize' : 8, 'weight' : 'bold'})\n",
    "sns.despine()\n",
    "plt.show()"
   ]
  },
  {
   "cell_type": "code",
   "execution_count": 10,
   "metadata": {},
   "outputs": [],
   "source": [
    "termination_dep = terminated_df['department_name'].value_counts().reset_index().head(8)"
   ]
  },
  {
   "cell_type": "code",
   "execution_count": 11,
   "metadata": {},
   "outputs": [
    {
     "data": {
      "image/png": "[encoded data removed]",
      "text/plain": [
       "<Figure size 800x400 with 1 Axes>"
      ]
     },
     "metadata": {},
     "output_type": "display_data"
    }
   ],
   "source": [
    "# Creating a BarPlot to visualize the distribution of terminated employees By Department.\n",
    "plt.figure(figsize=(8,4))\n",
    "sns.barplot(x='department_name', y='count', data=termination_dep, color='#48cae4', edgecolor='#0096c7')\n",
    "plt.title('Attrition Count By Department', fontdict={'fontsize' : 9, 'weight' : 'bold'})\n",
    "plt.xticks(rotation=20)\n",
    "plt.xlabel('Department', fontdict={'fontsize' : 8, 'weight' : 'bold'})\n",
    "plt.ylabel('Frequency', fontdict={'fontsize' : 8, 'weight' : 'bold'})\n",
    "\n",
    "sns.despine()\n",
    "plt.show()"
   ]
  },
  {
   "cell_type": "code",
   "execution_count": 12,
   "metadata": {},
   "outputs": [],
   "source": [
    "termination_loc = terminated_df['city_name'].value_counts().reset_index().head(8)"
   ]
  },
  {
   "cell_type": "code",
   "execution_count": 13,
   "metadata": {},
   "outputs": [
    {
     "data": {
      "image/png": "[encoded data removed]",
      "text/plain": [
       "<Figure size 800x400 with 1 Axes>"
      ]
     },
     "metadata": {},
     "output_type": "display_data"
    }
   ],
   "source": [
    "# Creating a BarPlot to visualize the distribution of terminated employees By City.\n",
    "plt.figure(figsize=(8,4))\n",
    "sns.barplot(x='city_name', y='count', data=termination_loc, color='#caf0f8', edgecolor='#0096c7')\n",
    "plt.title('Attrition Count By City', fontdict={'fontsize' : 9, 'weight' : 'bold'})\n",
    "plt.xticks(rotation=20)\n",
    "plt.xlabel('City', fontdict={'fontsize' : 9, 'weight' : 'bold'})\n",
    "plt.ylabel('Frequency', fontdict={'fontsize' : 8, 'weight' : 'bold'})\n",
    "\n",
    "sns.despine()\n",
    "plt.show()"
   ]
  },
  {
   "cell_type": "code",
   "execution_count": 44,
   "metadata": {},
   "outputs": [],
   "source": [
    "scaled_df = df.copy()"
   ]
  },
  {
   "cell_type": "code",
   "execution_count": 45,
   "metadata": {},
   "outputs": [],
   "source": [
    "# Converting the 'recorddate_key' and 'orighiredate_key' columns to datetime objects\n",
    "\n",
    "scaled_df['recorddate_key'] = pd.to_datetime(scaled_df['recorddate_key'])\n",
    "scaled_df['orighiredate_key'] = pd.to_datetime(scaled_df['orighiredate_key'])"
   ]
  },
  {
   "cell_type": "code",
   "execution_count": 46,
   "metadata": {},
   "outputs": [],
   "source": [
    "# Selecting columns with data type 'object' from the DataFrame.\n",
    "\n",
    "obj_cols = scaled_df.select_dtypes(include=('object')).columns"
   ]
  },
  {
   "cell_type": "code",
   "execution_count": 47,
   "metadata": {},
   "outputs": [],
   "source": [
    "# Using LabelEncoder to encode categorical columns with 'object' data type in the DataFrame.\n",
    "\n",
    "from sklearn.preprocessing import LabelEncoder\n",
    "encoder = LabelEncoder()\n",
    "\n",
    "for col in obj_cols:\n",
    "    scaled_df[col] = encoder.fit_transform(scaled_df[col])"
   ]
  },
  {
   "cell_type": "code",
   "execution_count": 48,
   "metadata": {},
   "outputs": [],
   "source": [
    "# Extracting year, month, and day components from datetime columns in the DataFrame.\n",
    "\n",
    "scaled_df['recorddate_key_year'] = scaled_df['recorddate_key'].dt.year\n",
    "scaled_df['recorddate_key_month'] = scaled_df['recorddate_key'].dt.month\n",
    "scaled_df['recorddate_key_day'] = scaled_df['recorddate_key'].dt.day\n",
    "\n",
    "scaled_df['orighiredate_key_year'] = scaled_df['orighiredate_key'].dt.year\n",
    "scaled_df['orighiredate_key_month'] = scaled_df['orighiredate_key'].dt.month\n",
    "scaled_df['orighiredate_key_day'] = scaled_df['orighiredate_key'].dt.day"
   ]
  },
  {
   "cell_type": "code",
   "execution_count": 49,
   "metadata": {},
   "outputs": [],
   "source": [
    "# Dropping the original datetime columns ('recorddate_key' and 'orighiredate_key') from the DataFrame.\n",
    "\n",
    "scaled_df.drop(columns=['recorddate_key', 'orighiredate_key'], inplace=True)"
   ]
  },
  {
   "cell_type": "code",
   "execution_count": 50,
   "metadata": {},
   "outputs": [
    {
     "data": {
      "text/html": [
       "<div>\n",
       "<style scoped>\n",
       "    .dataframe tbody tr th:only-of-type {\n",
       "        vertical-align: middle;\n",
       "    }\n",
       "\n",
       "    .dataframe tbody tr th {\n",
       "        vertical-align: top;\n",
       "    }\n",
       "\n",
       "    .dataframe thead th {\n",
       "        text-align: right;\n",
       "    }\n",
       "</style>\n",
       "<table border=\"1\" class=\"dataframe\">\n",
       "  <thead>\n",
       "    <tr style=\"text-align: right;\">\n",
       "      <th></th>\n",
       "      <th>age</th>\n",
       "      <th>city_name</th>\n",
       "      <th>department_name</th>\n",
       "      <th>job_title</th>\n",
       "      <th>store_name</th>\n",
       "      <th>gender_full</th>\n",
       "      <th>STATUS_YEAR</th>\n",
       "      <th>STATUS</th>\n",
       "      <th>BUSINESS_UNIT</th>\n",
       "      <th>recorddate_key_year</th>\n",
       "      <th>recorddate_key_month</th>\n",
       "      <th>recorddate_key_day</th>\n",
       "      <th>orighiredate_key_year</th>\n",
       "      <th>orighiredate_key_month</th>\n",
       "      <th>orighiredate_key_day</th>\n",
       "    </tr>\n",
       "  </thead>\n",
       "  <tbody>\n",
       "    <tr>\n",
       "      <th>0</th>\n",
       "      <td>52</td>\n",
       "      <td>34</td>\n",
       "      <td>9</td>\n",
       "      <td>7</td>\n",
       "      <td>35</td>\n",
       "      <td>1</td>\n",
       "      <td>2006</td>\n",
       "      <td>0</td>\n",
       "      <td>0</td>\n",
       "      <td>2006</td>\n",
       "      <td>12</td>\n",
       "      <td>31</td>\n",
       "      <td>1989</td>\n",
       "      <td>8</td>\n",
       "      <td>28</td>\n",
       "    </tr>\n",
       "    <tr>\n",
       "      <th>1</th>\n",
       "      <td>53</td>\n",
       "      <td>34</td>\n",
       "      <td>9</td>\n",
       "      <td>7</td>\n",
       "      <td>35</td>\n",
       "      <td>1</td>\n",
       "      <td>2007</td>\n",
       "      <td>0</td>\n",
       "      <td>0</td>\n",
       "      <td>2007</td>\n",
       "      <td>12</td>\n",
       "      <td>31</td>\n",
       "      <td>1989</td>\n",
       "      <td>8</td>\n",
       "      <td>28</td>\n",
       "    </tr>\n",
       "    <tr>\n",
       "      <th>2</th>\n",
       "      <td>54</td>\n",
       "      <td>34</td>\n",
       "      <td>9</td>\n",
       "      <td>7</td>\n",
       "      <td>35</td>\n",
       "      <td>1</td>\n",
       "      <td>2008</td>\n",
       "      <td>0</td>\n",
       "      <td>0</td>\n",
       "      <td>2008</td>\n",
       "      <td>12</td>\n",
       "      <td>31</td>\n",
       "      <td>1989</td>\n",
       "      <td>8</td>\n",
       "      <td>28</td>\n",
       "    </tr>\n",
       "    <tr>\n",
       "      <th>3</th>\n",
       "      <td>55</td>\n",
       "      <td>34</td>\n",
       "      <td>9</td>\n",
       "      <td>7</td>\n",
       "      <td>35</td>\n",
       "      <td>1</td>\n",
       "      <td>2009</td>\n",
       "      <td>0</td>\n",
       "      <td>0</td>\n",
       "      <td>2009</td>\n",
       "      <td>12</td>\n",
       "      <td>31</td>\n",
       "      <td>1989</td>\n",
       "      <td>8</td>\n",
       "      <td>28</td>\n",
       "    </tr>\n",
       "    <tr>\n",
       "      <th>4</th>\n",
       "      <td>56</td>\n",
       "      <td>34</td>\n",
       "      <td>9</td>\n",
       "      <td>7</td>\n",
       "      <td>35</td>\n",
       "      <td>1</td>\n",
       "      <td>2010</td>\n",
       "      <td>0</td>\n",
       "      <td>0</td>\n",
       "      <td>2010</td>\n",
       "      <td>12</td>\n",
       "      <td>31</td>\n",
       "      <td>1989</td>\n",
       "      <td>8</td>\n",
       "      <td>28</td>\n",
       "    </tr>\n",
       "    <tr>\n",
       "      <th>...</th>\n",
       "      <td>...</td>\n",
       "      <td>...</td>\n",
       "      <td>...</td>\n",
       "      <td>...</td>\n",
       "      <td>...</td>\n",
       "      <td>...</td>\n",
       "      <td>...</td>\n",
       "      <td>...</td>\n",
       "      <td>...</td>\n",
       "      <td>...</td>\n",
       "      <td>...</td>\n",
       "      <td>...</td>\n",
       "      <td>...</td>\n",
       "      <td>...</td>\n",
       "      <td>...</td>\n",
       "    </tr>\n",
       "    <tr>\n",
       "      <th>49648</th>\n",
       "      <td>21</td>\n",
       "      <td>33</td>\n",
       "      <td>7</td>\n",
       "      <td>14</td>\n",
       "      <td>34</td>\n",
       "      <td>1</td>\n",
       "      <td>2015</td>\n",
       "      <td>1</td>\n",
       "      <td>1</td>\n",
       "      <td>2015</td>\n",
       "      <td>12</td>\n",
       "      <td>1</td>\n",
       "      <td>2013</td>\n",
       "      <td>8</td>\n",
       "      <td>19</td>\n",
       "    </tr>\n",
       "    <tr>\n",
       "      <th>49649</th>\n",
       "      <td>19</td>\n",
       "      <td>34</td>\n",
       "      <td>6</td>\n",
       "      <td>9</td>\n",
       "      <td>44</td>\n",
       "      <td>0</td>\n",
       "      <td>2013</td>\n",
       "      <td>1</td>\n",
       "      <td>1</td>\n",
       "      <td>2013</td>\n",
       "      <td>8</td>\n",
       "      <td>1</td>\n",
       "      <td>2013</td>\n",
       "      <td>8</td>\n",
       "      <td>27</td>\n",
       "    </tr>\n",
       "    <tr>\n",
       "      <th>49650</th>\n",
       "      <td>21</td>\n",
       "      <td>38</td>\n",
       "      <td>6</td>\n",
       "      <td>9</td>\n",
       "      <td>39</td>\n",
       "      <td>0</td>\n",
       "      <td>2015</td>\n",
       "      <td>1</td>\n",
       "      <td>1</td>\n",
       "      <td>2015</td>\n",
       "      <td>12</td>\n",
       "      <td>1</td>\n",
       "      <td>2013</td>\n",
       "      <td>9</td>\n",
       "      <td>15</td>\n",
       "    </tr>\n",
       "    <tr>\n",
       "      <th>49651</th>\n",
       "      <td>19</td>\n",
       "      <td>15</td>\n",
       "      <td>6</td>\n",
       "      <td>9</td>\n",
       "      <td>16</td>\n",
       "      <td>0</td>\n",
       "      <td>2013</td>\n",
       "      <td>1</td>\n",
       "      <td>1</td>\n",
       "      <td>2013</td>\n",
       "      <td>12</td>\n",
       "      <td>1</td>\n",
       "      <td>2013</td>\n",
       "      <td>10</td>\n",
       "      <td>9</td>\n",
       "    </tr>\n",
       "    <tr>\n",
       "      <th>49652</th>\n",
       "      <td>20</td>\n",
       "      <td>12</td>\n",
       "      <td>6</td>\n",
       "      <td>9</td>\n",
       "      <td>13</td>\n",
       "      <td>0</td>\n",
       "      <td>2014</td>\n",
       "      <td>1</td>\n",
       "      <td>1</td>\n",
       "      <td>2014</td>\n",
       "      <td>12</td>\n",
       "      <td>1</td>\n",
       "      <td>2013</td>\n",
       "      <td>11</td>\n",
       "      <td>24</td>\n",
       "    </tr>\n",
       "  </tbody>\n",
       "</table>\n",
       "<p>49653 rows × 15 columns</p>\n",
       "</div>"
      ],
      "text/plain": [
       "       age  city_name  department_name  job_title  store_name  gender_full  \\\n",
       "0       52         34                9          7          35            1   \n",
       "1       53         34                9          7          35            1   \n",
       "2       54         34                9          7          35            1   \n",
       "3       55         34                9          7          35            1   \n",
       "4       56         34                9          7          35            1   \n",
       "...    ...        ...              ...        ...         ...          ...   \n",
       "49648   21         33                7         14          34            1   \n",
       "49649   19         34                6          9          44            0   \n",
       "49650   21         38                6          9          39            0   \n",
       "49651   19         15                6          9          16            0   \n",
       "49652   20         12                6          9          13            0   \n",
       "\n",
       "       STATUS_YEAR  STATUS  BUSINESS_UNIT  recorddate_key_year  \\\n",
       "0             2006       0              0                 2006   \n",
       "1             2007       0              0                 2007   \n",
       "2             2008       0              0                 2008   \n",
       "3             2009       0              0                 2009   \n",
       "4             2010       0              0                 2010   \n",
       "...            ...     ...            ...                  ...   \n",
       "49648         2015       1              1                 2015   \n",
       "49649         2013       1              1                 2013   \n",
       "49650         2015       1              1                 2015   \n",
       "49651         2013       1              1                 2013   \n",
       "49652         2014       1              1                 2014   \n",
       "\n",
       "       recorddate_key_month  recorddate_key_day  orighiredate_key_year  \\\n",
       "0                        12                  31                   1989   \n",
       "1                        12                  31                   1989   \n",
       "2                        12                  31                   1989   \n",
       "3                        12                  31                   1989   \n",
       "4                        12                  31                   1989   \n",
       "...                     ...                 ...                    ...   \n",
       "49648                    12                   1                   2013   \n",
       "49649                     8                   1                   2013   \n",
       "49650                    12                   1                   2013   \n",
       "49651                    12                   1                   2013   \n",
       "49652                    12                   1                   2013   \n",
       "\n",
       "       orighiredate_key_month  orighiredate_key_day  \n",
       "0                           8                    28  \n",
       "1                           8                    28  \n",
       "2                           8                    28  \n",
       "3                           8                    28  \n",
       "4                           8                    28  \n",
       "...                       ...                   ...  \n",
       "49648                       8                    19  \n",
       "49649                       8                    27  \n",
       "49650                       9                    15  \n",
       "49651                      10                     9  \n",
       "49652                      11                    24  \n",
       "\n",
       "[49653 rows x 15 columns]"
      ]
     },
     "execution_count": 50,
     "metadata": {},
     "output_type": "execute_result"
    }
   ],
   "source": [
    "scaled_df"
   ]
  },
  {
   "cell_type": "code",
   "execution_count": 51,
   "metadata": {},
   "outputs": [],
   "source": [
    "# Scaling selected numerical columns in the DataFrame using StandardScaler.\n",
    "\n",
    "cols = ['age', 'STATUS_YEAR', 'recorddate_key_year', 'orighiredate_key_year']\n",
    "\n",
    "from sklearn.preprocessing import StandardScaler\n",
    "scaler = StandardScaler()\n",
    "\n",
    "for col in cols:\n",
    "    scaled_df[col] = scaler.fit_transform(scaled_df[[col]])"
   ]
  },
  {
   "cell_type": "code",
   "execution_count": 52,
   "metadata": {},
   "outputs": [],
   "source": [
    "# Splitting the DataFrame into features (x) and target variable (y).\n",
    "\n",
    "x = scaled_df.drop(columns=['STATUS'])\n",
    "y = scaled_df['STATUS']"
   ]
  },
  {
   "cell_type": "code",
   "execution_count": 53,
   "metadata": {},
   "outputs": [],
   "source": [
    "# Splitting the dataset into training and testing sets using train_test_split.\n",
    "\n",
    "from sklearn.model_selection import train_test_split\n",
    "\n",
    "xtrain, xtest, ytrain, ytest = train_test_split(x, y, test_size=0.2, random_state=4)"
   ]
  },
  {
   "cell_type": "code",
   "execution_count": 54,
   "metadata": {},
   "outputs": [
    {
     "name": "stdout",
     "output_type": "stream",
     "text": [
      "Shape of xtrain : (39722, 14)\n",
      "Shape of xtest : (9931, 14)\n",
      "Shape of ytrain : (39722,)\n",
      "Shape of ytest : (9931,)\n"
     ]
    }
   ],
   "source": [
    "# Printing the shapes of the training and testing sets to verify the data splitting.\n",
    "\n",
    "print(f'Shape of xtrain : {xtrain.shape}')\n",
    "print(f'Shape of xtest : {xtest.shape}')\n",
    "print(f'Shape of ytrain : {ytrain.shape}')\n",
    "print(f'Shape of ytest : {ytest.shape}')"
   ]
  },
  {
   "cell_type": "code",
   "execution_count": 55,
   "metadata": {},
   "outputs": [],
   "source": [
    "# Creating a Sequential model for binary classification.\n",
    "Model = Sequential()\n",
    "\n",
    "# Adding the Input layer with 32 units, ReLU activation, and input dimension of 14.\n",
    "Model.add(Dense(units=32, activation='relu', input_dim=14))\n",
    "Model.add(BatchNormalization())                                         # Adding BatchNormalization for improved training stability.\n",
    "\n",
    "# Adding the Hidden layers with ReLU activation.\n",
    "Model.add(Dense(units=64, activation='relu'))\n",
    "Model.add(Dropout(0.3))\n",
    "\n",
    "Model.add(Dense(units=128, activation='relu'))\n",
    "Model.add(Dropout(0.3))\n",
    "\n",
    "# Adding the output layer with 1 unit and sigmoid activation for binary classification.\n",
    "Model.add(Dense(units=1, activation='sigmoid'))\n",
    "\n",
    "# Compiling the model using the Adam optimizer and binary crossentropy loss.\n",
    "# Monitoring accuracy as the evaluation metric.\n",
    "Model.compile(optimizer='adam', loss='binary_crossentropy', metrics=['accuracy'])"
   ]
  },
  {
   "cell_type": "code",
   "execution_count": 56,
   "metadata": {},
   "outputs": [],
   "source": [
    "# Creating an EarlyStopping callback to halt training when accuracy stops improving.\n",
    "\n",
    "early_stop = EarlyStopping(monitor='accuracy', patience=5, mode='auto', verbose=0, restore_best_weights=True)"
   ]
  },
  {
   "cell_type": "code",
   "execution_count": 57,
   "metadata": {},
   "outputs": [
    {
     "name": "stdout",
     "output_type": "stream",
     "text": [
      "Epoch 1/100\n",
      "WARNING:tensorflow:From c:\\Users\\user\\Desktop\\Python\\Main_Projects\\base_env\\Lib\\site-packages\\keras\\src\\utils\\tf_utils.py:492: The name tf.ragged.RaggedTensorValue is deprecated. Please use tf.compat.v1.ragged.RaggedTensorValue instead.\n",
      "\n",
      "WARNING:tensorflow:From c:\\Users\\user\\Desktop\\Python\\Main_Projects\\base_env\\Lib\\site-packages\\keras\\src\\engine\\base_layer_utils.py:384: The name tf.executing_eagerly_outside_functions is deprecated. Please use tf.compat.v1.executing_eagerly_outside_functions instead.\n",
      "\n",
      "621/621 [==============================] - 4s 3ms/step - loss: 0.0186 - accuracy: 0.9963\n",
      "Epoch 2/100\n",
      "621/621 [==============================] - 2s 4ms/step - loss: 1.3201e-04 - accuracy: 1.0000\n",
      "Epoch 3/100\n",
      "621/621 [==============================] - 2s 3ms/step - loss: 1.4382e-04 - accuracy: 1.0000\n",
      "Epoch 4/100\n",
      "621/621 [==============================] - 2s 3ms/step - loss: 1.9838e-05 - accuracy: 1.0000\n",
      "Epoch 5/100\n",
      "621/621 [==============================] - 2s 3ms/step - loss: 6.5823e-06 - accuracy: 1.0000\n",
      "Epoch 6/100\n",
      "621/621 [==============================] - 2s 3ms/step - loss: 6.2716e-06 - accuracy: 1.0000\n",
      "Epoch 7/100\n",
      "621/621 [==============================] - 2s 3ms/step - loss: 2.7584e-06 - accuracy: 1.0000\n",
      "Epoch 8/100\n",
      "621/621 [==============================] - 2s 3ms/step - loss: 1.6294e-06 - accuracy: 1.0000\n",
      "Epoch 9/100\n",
      "621/621 [==============================] - 2s 3ms/step - loss: 2.2227e-06 - accuracy: 1.0000\n"
     ]
    },
    {
     "data": {
      "text/plain": [
       "<keras.src.callbacks.History at 0x239b31fd510>"
      ]
     },
     "execution_count": 57,
     "metadata": {},
     "output_type": "execute_result"
    }
   ],
   "source": [
    "# Training the model on the training data with a specified number of epochs, batch size, and early stopping callback.\n",
    "\n",
    "Model.fit(xtrain, ytrain, epochs=100, batch_size=64, callbacks=[early_stop])"
   ]
  },
  {
   "cell_type": "code",
   "execution_count": 59,
   "metadata": {},
   "outputs": [
    {
     "name": "stdout",
     "output_type": "stream",
     "text": [
      "1242/1242 [==============================] - 2s 2ms/step - loss: 7.5928e-08 - accuracy: 1.0000\n",
      "Training Accuracy : 100.0%\n"
     ]
    }
   ],
   "source": [
    "# Evaluate the model on the train set and retrieve the train accuracy\n",
    "\n",
    "train_accuracy = Model.evaluate(xtrain, ytrain)\n",
    "print(f'Training Accuracy : {round(train_accuracy[1] * 100, 2)}%')"
   ]
  },
  {
   "cell_type": "code",
   "execution_count": 60,
   "metadata": {},
   "outputs": [
    {
     "name": "stdout",
     "output_type": "stream",
     "text": [
      "311/311 [==============================] - 1s 2ms/step - loss: 7.7308e-08 - accuracy: 1.0000\n",
      "Testing Accuracy : 100.0%\n"
     ]
    }
   ],
   "source": [
    "# Evaluate the model on the test set and retrieve the test accuracy\n",
    "\n",
    "test_accuracy = Model.evaluate(xtest, ytest)\n",
    "print(f'Testing Accuracy : {round(test_accuracy[1] * 100, 2)}%')"
   ]
  },
  {
   "cell_type": "code",
   "execution_count": 62,
   "metadata": {},
   "outputs": [
    {
     "name": "stdout",
     "output_type": "stream",
     "text": [
      "1242/1242 [==============================] - 2s 2ms/step\n",
      "Classification Report for Training Set\n",
      "\n",
      "              precision    recall  f1-score   support\n",
      "\n",
      "           0       1.00      1.00      1.00     38514\n",
      "           1       1.00      1.00      1.00      1208\n",
      "\n",
      "    accuracy                           1.00     39722\n",
      "   macro avg       1.00      1.00      1.00     39722\n",
      "weighted avg       1.00      1.00      1.00     39722\n",
      "\n"
     ]
    }
   ],
   "source": [
    "# Prediction on Training set\n",
    "train_pred_prob = Model.predict(xtrain)\n",
    "\n",
    "# Convert the predictions to binary predictions (0 or 1) using a threshold\n",
    "threshold = 0.5\n",
    "train_pred_binary = (train_pred_prob > threshold).astype('int')\n",
    "\n",
    "print(\"Classification Report for Training Set\\n\")\n",
    "print(metrics.classification_report(ytrain, train_pred_binary))"
   ]
  },
  {
   "cell_type": "code",
   "execution_count": 63,
   "metadata": {},
   "outputs": [
    {
     "name": "stdout",
     "output_type": "stream",
     "text": [
      "311/311 [==============================] - 0s 2ms/step\n",
      "Classification Report for Testing Set\n",
      "\n",
      "              precision    recall  f1-score   support\n",
      "\n",
      "           0       1.00      1.00      1.00      9654\n",
      "           1       1.00      1.00      1.00       277\n",
      "\n",
      "    accuracy                           1.00      9931\n",
      "   macro avg       1.00      1.00      1.00      9931\n",
      "weighted avg       1.00      1.00      1.00      9931\n",
      "\n"
     ]
    }
   ],
   "source": [
    "# Prediction on Testing set\n",
    "test_pred_prob = Model.predict(xtest)\n",
    "\n",
    "# Convert the predictions to binary predictions (0 or 1) using a threshold\n",
    "threshold = 0.5\n",
    "test_pred_binary = (test_pred_prob > threshold).astype('int')\n",
    "\n",
    "print(\"Classification Report for Testing Set\\n\")\n",
    "print(metrics.classification_report(ytest, test_pred_binary))"
   ]
  },
  {
   "cell_type": "code",
   "execution_count": 105,
   "metadata": {},
   "outputs": [
    {
     "data": {
      "image/png": "[encoded data removed]",
      "text/plain": [
       "<Figure size 1400x400 with 4 Axes>"
      ]
     },
     "metadata": {},
     "output_type": "display_data"
    }
   ],
   "source": [
    "# Creating a Confusion Matrix\n",
    "\n",
    "cm_train = metrics.confusion_matrix(ytrain, train_pred_binary)\n",
    "cm_test = metrics.confusion_matrix(ytest, test_pred_binary)\n",
    "\n",
    "# Creating ConfusionMatrixDisplay object\n",
    "\n",
    "cm_train_dis = metrics.ConfusionMatrixDisplay(cm_train, display_labels=['Active', 'Terminated'])\n",
    "cm_test_dis = metrics.ConfusionMatrixDisplay(cm_test, display_labels=['Active', 'Terminated'])\n",
    "\n",
    "fig, axs = plt.subplots(1, 2, figsize=(14, 4))\n",
    "\n",
    "cm_train_dis.plot(ax=axs[0], values_format=\"d\")\n",
    "cm_test_dis.plot(ax=axs[1], values_format=\"d\")\n",
    "\n",
    "# Adding titles and labels\n",
    "axs[0].set_title(\"Train Confusion Matrix\")\n",
    "axs[1].set_title(\"Test Confusion Matrix\")\n",
    "\n",
    "plt.show()"
   ]
  },
  {
   "cell_type": "markdown",
   "metadata": {},
   "source": [
    "### **Testing**"
   ]
  },
  {
   "cell_type": "code",
   "execution_count": 69,
   "metadata": {},
   "outputs": [
    {
     "data": {
      "text/html": [
       "<style>#sk-container-id-1 {color: black;}#sk-container-id-1 pre{padding: 0;}#sk-container-id-1 div.sk-toggleable {background-color: white;}#sk-container-id-1 label.sk-toggleable__label {cursor: pointer;display: block;width: 100%;margin-bottom: 0;padding: 0.3em;box-sizing: border-box;text-align: center;}#sk-container-id-1 label.sk-toggleable__label-arrow:before {content: \"▸\";float: left;margin-right: 0.25em;color: #696969;}#sk-container-id-1 label.sk-toggleable__label-arrow:hover:before {color: black;}#sk-container-id-1 div.sk-estimator:hover label.sk-toggleable__label-arrow:before {color: black;}#sk-container-id-1 div.sk-toggleable__content {max-height: 0;max-width: 0;overflow: hidden;text-align: left;background-color: #f0f8ff;}#sk-container-id-1 div.sk-toggleable__content pre {margin: 0.2em;color: black;border-radius: 0.25em;background-color: #f0f8ff;}#sk-container-id-1 input.sk-toggleable__control:checked~div.sk-toggleable__content {max-height: 200px;max-width: 100%;overflow: auto;}#sk-container-id-1 input.sk-toggleable__control:checked~label.sk-toggleable__label-arrow:before {content: \"▾\";}#sk-container-id-1 div.sk-estimator input.sk-toggleable__control:checked~label.sk-toggleable__label {background-color: #d4ebff;}#sk-container-id-1 div.sk-label input.sk-toggleable__control:checked~label.sk-toggleable__label {background-color: #d4ebff;}#sk-container-id-1 input.sk-hidden--visually {border: 0;clip: rect(1px 1px 1px 1px);clip: rect(1px, 1px, 1px, 1px);height: 1px;margin: -1px;overflow: hidden;padding: 0;position: absolute;width: 1px;}#sk-container-id-1 div.sk-estimator {font-family: monospace;background-color: #f0f8ff;border: 1px dotted black;border-radius: 0.25em;box-sizing: border-box;margin-bottom: 0.5em;}#sk-container-id-1 div.sk-estimator:hover {background-color: #d4ebff;}#sk-container-id-1 div.sk-parallel-item::after {content: \"\";width: 100%;border-bottom: 1px solid gray;flex-grow: 1;}#sk-container-id-1 div.sk-label:hover label.sk-toggleable__label {background-color: #d4ebff;}#sk-container-id-1 div.sk-serial::before {content: \"\";position: absolute;border-left: 1px solid gray;box-sizing: border-box;top: 0;bottom: 0;left: 50%;z-index: 0;}#sk-container-id-1 div.sk-serial {display: flex;flex-direction: column;align-items: center;background-color: white;padding-right: 0.2em;padding-left: 0.2em;position: relative;}#sk-container-id-1 div.sk-item {position: relative;z-index: 1;}#sk-container-id-1 div.sk-parallel {display: flex;align-items: stretch;justify-content: center;background-color: white;position: relative;}#sk-container-id-1 div.sk-item::before, #sk-container-id-1 div.sk-parallel-item::before {content: \"\";position: absolute;border-left: 1px solid gray;box-sizing: border-box;top: 0;bottom: 0;left: 50%;z-index: -1;}#sk-container-id-1 div.sk-parallel-item {display: flex;flex-direction: column;z-index: 1;position: relative;background-color: white;}#sk-container-id-1 div.sk-parallel-item:first-child::after {align-self: flex-end;width: 50%;}#sk-container-id-1 div.sk-parallel-item:last-child::after {align-self: flex-start;width: 50%;}#sk-container-id-1 div.sk-parallel-item:only-child::after {width: 0;}#sk-container-id-1 div.sk-dashed-wrapped {border: 1px dashed gray;margin: 0 0.4em 0.5em 0.4em;box-sizing: border-box;padding-bottom: 0.4em;background-color: white;}#sk-container-id-1 div.sk-label label {font-family: monospace;font-weight: bold;display: inline-block;line-height: 1.2em;}#sk-container-id-1 div.sk-label-container {text-align: center;}#sk-container-id-1 div.sk-container {/* jupyter's `normalize.less` sets `[hidden] { display: none; }` but bootstrap.min.css set `[hidden] { display: none !important; }` so we also need the `!important` here to be able to override the default hidden behavior on the sphinx rendered scikit-learn.org. See: https://github.com/scikit-learn/scikit-learn/issues/21755 */display: inline-block !important;position: relative;}#sk-container-id-1 div.sk-text-repr-fallback {display: none;}</style><div id=\"sk-container-id-1\" class=\"sk-top-container\"><div class=\"sk-text-repr-fallback\"><pre>LabelEncoder()</pre><b>In a Jupyter environment, please rerun this cell to show the HTML representation or trust the notebook. <br />On GitHub, the HTML representation is unable to render, please try loading this page with nbviewer.org.</b></div><div class=\"sk-container\" hidden><div class=\"sk-item\"><div class=\"sk-estimator sk-toggleable\"><input class=\"sk-toggleable__control sk-hidden--visually\" id=\"sk-estimator-id-1\" type=\"checkbox\" checked><label for=\"sk-estimator-id-1\" class=\"sk-toggleable__label sk-toggleable__label-arrow\">LabelEncoder</label><div class=\"sk-toggleable__content\"><pre>LabelEncoder()</pre></div></div></div></div></div>"
      ],
      "text/plain": [
       "LabelEncoder()"
      ]
     },
     "execution_count": 69,
     "metadata": {},
     "output_type": "execute_result"
    }
   ],
   "source": [
    "class_labels = ['Active', 'Terminated']\n",
    "\n",
    "encoder.fit(class_labels)"
   ]
  },
  {
   "cell_type": "code",
   "execution_count": 92,
   "metadata": {},
   "outputs": [],
   "source": [
    "# Creating a test DataFrame by concatenating features (xtest) and target variable (ytest) along the columns.\n",
    "\n",
    "test_df = pd.concat([xtest, ytest], axis=1)"
   ]
  },
  {
   "cell_type": "code",
   "execution_count": 93,
   "metadata": {},
   "outputs": [
    {
     "data": {
      "text/html": [
       "<div>\n",
       "<style scoped>\n",
       "    .dataframe tbody tr th:only-of-type {\n",
       "        vertical-align: middle;\n",
       "    }\n",
       "\n",
       "    .dataframe tbody tr th {\n",
       "        vertical-align: top;\n",
       "    }\n",
       "\n",
       "    .dataframe thead th {\n",
       "        text-align: right;\n",
       "    }\n",
       "</style>\n",
       "<table border=\"1\" class=\"dataframe\">\n",
       "  <thead>\n",
       "    <tr style=\"text-align: right;\">\n",
       "      <th></th>\n",
       "      <th>age</th>\n",
       "      <th>city_name</th>\n",
       "      <th>department_name</th>\n",
       "      <th>job_title</th>\n",
       "      <th>store_name</th>\n",
       "      <th>gender_full</th>\n",
       "      <th>STATUS_YEAR</th>\n",
       "      <th>BUSINESS_UNIT</th>\n",
       "      <th>recorddate_key_year</th>\n",
       "      <th>recorddate_key_month</th>\n",
       "      <th>recorddate_key_day</th>\n",
       "      <th>orighiredate_key_year</th>\n",
       "      <th>orighiredate_key_month</th>\n",
       "      <th>orighiredate_key_day</th>\n",
       "      <th>STATUS</th>\n",
       "    </tr>\n",
       "  </thead>\n",
       "  <tbody>\n",
       "    <tr>\n",
       "      <th>49615</th>\n",
       "      <td>-1.69605</td>\n",
       "      <td>14</td>\n",
       "      <td>6</td>\n",
       "      <td>9</td>\n",
       "      <td>15</td>\n",
       "      <td>1</td>\n",
       "      <td>1.190417</td>\n",
       "      <td>1</td>\n",
       "      <td>1.190417</td>\n",
       "      <td>8</td>\n",
       "      <td>1</td>\n",
       "      <td>2.038875</td>\n",
       "      <td>2</td>\n",
       "      <td>25</td>\n",
       "      <td>1</td>\n",
       "    </tr>\n",
       "  </tbody>\n",
       "</table>\n",
       "</div>"
      ],
      "text/plain": [
       "           age  city_name  department_name  job_title  store_name  \\\n",
       "49615 -1.69605         14                6          9          15   \n",
       "\n",
       "       gender_full  STATUS_YEAR  BUSINESS_UNIT  recorddate_key_year  \\\n",
       "49615            1     1.190417              1             1.190417   \n",
       "\n",
       "       recorddate_key_month  recorddate_key_day  orighiredate_key_year  \\\n",
       "49615                     8                   1               2.038875   \n",
       "\n",
       "       orighiredate_key_month  orighiredate_key_day  STATUS  \n",
       "49615                       2                    25       1  "
      ]
     },
     "execution_count": 93,
     "metadata": {},
     "output_type": "execute_result"
    }
   ],
   "source": [
    "sample_record = test_df[test_df['STATUS'] == 1].sample(1)\n",
    "sample_record"
   ]
  },
  {
   "cell_type": "code",
   "execution_count": 94,
   "metadata": {},
   "outputs": [],
   "source": [
    "sample = sample_record.drop(columns=['STATUS'])"
   ]
  },
  {
   "cell_type": "code",
   "execution_count": 95,
   "metadata": {},
   "outputs": [
    {
     "name": "stdout",
     "output_type": "stream",
     "text": [
      "1/1 [==============================] - 0s 46ms/step\n"
     ]
    },
    {
     "data": {
      "text/plain": [
       "array(['Terminated'], dtype='<U10')"
      ]
     },
     "execution_count": 95,
     "metadata": {},
     "output_type": "execute_result"
    }
   ],
   "source": [
    "# Function for making predictions using the trained model.\n",
    "\n",
    "def Predict(features):\n",
    "\n",
    "    pred_prob = Model.predict(features)                       # Predicting probabilities using the trained model.\n",
    "\n",
    "    threshold = 0.5\n",
    "    pred_prob_binary = (pred_prob > threshold).astype('int')  # convert probabilities to binary predictions.\n",
    "\n",
    "    pred_class = encoder.inverse_transform(pred_prob_binary)  # Inverse transforming binary predictions to obtain the predicted class.\n",
    "    \n",
    "    return pred_class\n",
    "\n",
    "Predict(sample)"
   ]
  }
 ],
 "metadata": {
  "kernelspec": {
   "display_name": "base_env",
   "language": "python",
   "name": "python3"
  },
  "language_info": {
   "codemirror_mode": {
    "name": "ipython",
    "version": 3
   },
   "file_extension": ".py",
   "mimetype": "text/x-python",
   "name": "python",
   "nbconvert_exporter": "python",
   "pygments_lexer": "ipython3",
   "version": "3.11.5"
  }
 },
 "nbformat": 4,
 "nbformat_minor": 2
}
